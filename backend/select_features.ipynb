{
 "cells": [
  {
   "cell_type": "code",
   "execution_count": 1,
   "id": "ecdad658",
   "metadata": {},
   "outputs": [
    {
     "name": "stdout",
     "output_type": "stream",
     "text": [
      "10 fitur terbaik: ['state', 'rate', 'sttl', 'dload', 'swin', 'dwin', 'dmean', 'ct_state_ttl', 'ct_src_dport_ltm', 'ct_dst_sport_ltm']\n"
     ]
    }
   ],
   "source": [
    "import pandas as pd\n",
    "from sklearn.preprocessing import LabelEncoder\n",
    "from sklearn.feature_selection import SelectKBest, f_classif\n",
    "\n",
    "# Baca dataset\n",
    "df = pd.read_csv(\"ddos.csv\")\n",
    "\n",
    "# Hapus kolom yang tidak diperlukan\n",
    "df = df.drop(['id', 'attack_cat'], axis=1)\n",
    "\n",
    "# Encode kolom kategorikal\n",
    "for col in ['proto', 'service', 'state']:\n",
    "    df[col] = LabelEncoder().fit_transform(df[col])\n",
    "\n",
    "# Pisahkan fitur dan target\n",
    "X = df.drop('label', axis=1)\n",
    "y = df['label']\n",
    "\n",
    "# Pilih 10 fitur terbaik\n",
    "selector = SelectKBest(score_func=f_classif, k=10)\n",
    "X_new = selector.fit_transform(X, y)\n",
    "\n",
    "# Tampilkan nama fitur terpilih\n",
    "selected_features = X.columns[selector.get_support()].tolist()\n",
    "print(\"10 fitur terbaik:\", selected_features)\n"
   ]
  }
 ],
 "metadata": {
  "kernelspec": {
   "display_name": "machine_learning",
   "language": "python",
   "name": "python3"
  },
  "language_info": {
   "codemirror_mode": {
    "name": "ipython",
    "version": 3
   },
   "file_extension": ".py",
   "mimetype": "text/x-python",
   "name": "python",
   "nbconvert_exporter": "python",
   "pygments_lexer": "ipython3",
   "version": "3.13.1"
  }
 },
 "nbformat": 4,
 "nbformat_minor": 5
}
